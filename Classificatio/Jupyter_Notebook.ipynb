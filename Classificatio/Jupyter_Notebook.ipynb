{
 "cells": [
  {
   "cell_type": "markdown",
   "metadata": {},
   "source": [
    "<center>\n",
    "    <img src=\"https://cf-courses-data.s3.us.cloud-object-storage.appdomain.cloud/IBMDeveloperSkillsNetwork-DS0105EN-SkillsNetwork/labs/Module2/images/SN_web_lightmode.png\" width=\"300\" alt=\"cognitiveclass.ai logo\">\n",
    "</center>\n"
   ]
  },
  {
   "cell_type": "markdown",
   "metadata": {},
   "source": [
    "#### Add your code below following the instructions given in the course\n"
   ]
  },
  {
   "cell_type": "markdown",
   "metadata": {},
   "source": [
    "# Devoir Final par pair"
   ]
  },
  {
   "cell_type": "markdown",
   "metadata": {},
   "source": [
    "## Introduction\n",
    "\n",
    "Ceci est un devoir par pair à soumettre afin d'évaluer vos performances"
   ]
  },
  {
   "cell_type": "markdown",
   "metadata": {},
   "source": [
    "## Les Langages des sciences de données\n",
    "\n",
    "### Il existe plus langages de programmation pour la science des données dont :\n",
    "    ** Python\n",
    "    **R(Rstudio)\n",
    "    ** Java(Intégré dans des outils comme Hadoop, Spark.)\n",
    "    ** Scala\n",
    "    ** Apache Hadopp(Spark)\n",
    "    ** Apache Airflow (Airflow)\n",
    "    ** SQL (pour les requetes des bases de données)\n",
    "    ** Julia (Étroitement lié à Apache Spark pour l'analyse Big Data.)\n",
    "    ** MATLAB  pour les calculs mathématiques\n",
    "    ** SAS pour les tests statistiques\n",
    "    ** C/C++\n",
    "    ** JavaScript"
   ]
  },
  {
   "cell_type": "markdown",
   "metadata": {},
   "source": [
    "## Les bibliothèques pour la science des données\n",
    "\n",
    "### Nous avons plusieurs bibliothèques pour la science des données \n",
    "    ** pandas, matplotlib, plotly, seaborn, numpy, \n",
    "    ** tensorflow, pytorch,keras\n",
    "    **scikit-learn, XGBoost, TensorFlow,PyTorch\n",
    "    ** NLTK,spaCy\n",
    "    ** Dask,PySpark\n",
    "    ** streamlit\n",
    "    ** ggplot, caret, dplyr\n",
    "    ** D3.js\n",
    "    ** plotly.js\n",
    "    ** OpenCV"
   ]
  },
  {
   "cell_type": "markdown",
   "metadata": {},
   "source": [
    "## Les outils pour la science des données\n",
    "\n",
    " ### Parmi les outils pour la science des données, nous avons:\n",
    "     ** Jupyter Notebook\n",
    "     ** anaconda\n",
    "     ** pycharm\n",
    "     ** Vscode\n",
    "     ** Rstudio\n",
    "     ** Azure Machine Learning\n",
    "     ** Cloud"
   ]
  },
  {
   "cell_type": "markdown",
   "metadata": {},
   "source": [
    "# 📌 Expressions Arithmétiques en Python\n",
    "\n",
    "En Python, les expressions arithmétiques permettent d'effectuer des opérations mathématiques sur des nombres. Voici quelques exemples courants :\n",
    "\n",
    "## 🔢 Opérations de base :\n",
    "| Opération | Expression | Résultat |\n",
    "|-----------|-----------|----------|\n",
    "| Addition  | `3 + 2`   | `5`      |\n",
    "| Soustraction | `7 - 4` | `3`      |\n",
    "| Multiplication | `6 * 3` | `18`  |\n",
    "| Division | `10 / 2`  | `5.0`     |\n",
    "\n",
    "## 🧮 Opérations avancées :\n",
    "| Opération | Expression | Résultat |\n",
    "|-----------|-----------|----------|\n",
    "| Puissance | `2 ** 3`  | `8`      |\n",
    "| Division entière | `10 // 3` | `3` (quotient sans reste) |\n",
    "| Modulo (reste) | `10 % 3` | `1` |\n",
    "\n",
    "## 📝 Exemple de calcul complexe :\n",
    "\n",
    "result = (5 + 3) * 2 ** 2 / 4 - 1\n",
    "print(result)  # Résultat : 7.0\n"
   ]
  },
  {
   "cell_type": "code",
   "execution_count": 1,
   "metadata": {},
   "outputs": [
    {
     "name": "stdout",
     "output_type": "stream",
     "text": [
      "Multiplication (5 * 3) = 15\n",
      "Addition (5 + 2) = 7\n",
      "Résultat final (15 + 7) = 22\n"
     ]
    }
   ],
   "source": [
    "# Multiplication et addition de nombres en Python\n",
    "\n",
    "# Déclaration des nombres\n",
    "a = 5\n",
    "b = 3\n",
    "c = 2\n",
    "\n",
    "# Calculs\n",
    "multiplication = a * b\n",
    "addition = a + c\n",
    "resultat_final = multiplication + addition\n",
    "\n",
    "# Affichage des résultats\n",
    "print(f\"Multiplication ({a} * {b}) = {multiplication}\")\n",
    "print(f\"Addition ({a} + {c}) = {addition}\")\n",
    "print(f\"Résultat final ({multiplication} + {addition}) = {resultat_final}\")\n"
   ]
  },
  {
   "cell_type": "code",
   "execution_count": 2,
   "metadata": {},
   "outputs": [
    {
     "name": "stdin",
     "output_type": "stream",
     "text": [
      "Entrez le nombre de minutes :  12\n"
     ]
    },
    {
     "name": "stdout",
     "output_type": "stream",
     "text": [
      "12 minutes équivalent à 0 heure(s) et 12 minute(s).\n"
     ]
    }
   ],
   "source": [
    "# Conversion des minutes en heures\n",
    "\n",
    "# Saisie du nombre de minutes\n",
    "minutes = int(input(\"Entrez le nombre de minutes : \"))\n",
    "\n",
    "# Conversion en heures et minutes restantes\n",
    "heures = minutes // 60\n",
    "minutes_restantes = minutes % 60\n",
    "\n",
    "# Affichage du résultat\n",
    "print(f\"{minutes} minutes équivalent à {heures} heure(s) et {minutes_restantes} minute(s).\")\n"
   ]
  },
  {
   "cell_type": "markdown",
   "metadata": {},
   "source": [
    "# 🎯 Objectifs  \n",
    "\n",
    "Voici les principaux objectifs de cette analyse :  \n",
    "\n",
    "1. Comprendre les tendances des données.  \n",
    "2. Identifier les facteurs influençant les résultats.  \n",
    "3. Construire un modèle de prédiction fiable.  \n",
    "4. Visualiser les résultats de manière intuitive.  \n",
    "5. Optimiser la prise de décision grâce aux insights.  \n"
   ]
  },
  {
   "cell_type": "markdown",
   "metadata": {},
   "source": [
    "# ✍️ Auteur  \n",
    "\n",
    "**Nom :** [Eric KOULODJI]  \n",
    "**Date :** [29/01/2025]  \n"
   ]
  }
 ],
 "metadata": {
  "kernelspec": {
   "display_name": "Python 3 (ipykernel)",
   "language": "python",
   "name": "python3"
  },
  "language_info": {
   "codemirror_mode": {
    "name": "ipython",
    "version": 3
   },
   "file_extension": ".py",
   "mimetype": "text/x-python",
   "name": "python",
   "nbconvert_exporter": "python",
   "pygments_lexer": "ipython3",
   "version": "3.12.8"
  }
 },
 "nbformat": 4,
 "nbformat_minor": 4
}
